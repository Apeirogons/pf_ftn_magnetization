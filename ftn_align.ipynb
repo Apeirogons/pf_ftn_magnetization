{
 "cells": [
  {
   "cell_type": "markdown",
   "metadata": {},
   "source": [
    "We have a list of mutations done in E. coli ferritin done to increase magnetizability, which we want to translate to P. furiosus.\n",
    "Here's the mutations: https://www.ncbi.nlm.nih.gov/pmc/articles/PMC5126674/figure/f2/ "
   ]
  },
  {
   "cell_type": "code",
   "execution_count": 1,
   "metadata": {},
   "outputs": [],
   "source": [
    "# Biopython imports\n",
    "from Bio.Align import MultipleSeqAlignment\n",
    "from Bio.SeqRecord import SeqRecord\n",
    "from Bio.Seq import Seq\n",
    "from Bio.Alphabet import generic_dna\n",
    "from Bio import AlignIO\n",
    "from Bio.Align.Applications import MuscleCommandline\n",
    "from os import listdir\n",
    "from utils.sequence import remove_duplicates, padding, seq_print\n",
    "from utils.similarity import parse_similarity_matrix, slice_sequence, sequence_identity, sequence_similarity_score\n",
    "from utils.utils import parse_other_known_sites, parse_mutations"
   ]
  },
  {
   "cell_type": "code",
   "execution_count": 2,
   "metadata": {},
   "outputs": [
    {
     "output_type": "stream",
     "name": "stdout",
     "text": "The sequence of 1BFR is the same as 1BCF, removing 1BFR\nThe sequence of 2JD8 is the same as 2JD7, removing 2JD8\nThe sequence of 2Y3Q is the same as 1BCF, removing 2Y3Q\n \n1BCF|MKGDTKVINYLNKLLGNELVAINQYFLHARMFKNWGLKRLNDVEYHESIDEMKHADRYIERILFLEGLPNLQDLGKLNIGEDVEEMLRSDLALELDGAKNLREAIGYADSVHDYVSRDMMIEILRDEEGHIDWLETELDLIQKMGLQNYLQAQIREEG----------------\n1EUM|MLKPEMIEKLNEQMNLELYSSLLYQQMSAWCSYHTFEGAAAFLRRHAQEEMTHMQRLFDYLTDTGNLPRINTVESPFAEYSSLDELFQETYKHEQLITQKINELAHAAMTNQDYPTFNFLQWYVSEQHEEEKLFKSIIDKLSLAGKSGEGLYFIDKELSTLDTQN---------\n2JD7|MLSERMLKALNDQLNRELYSAYLYFAMAAYFEDLGLEGFANWMKAQAEEEIGHALRFYNYIYDRNGRVELDEIPKPPKEWESPLKAFEAAYEHEKFISKSIYELAALAEEEKDYSTRAFLEWFINEQVEEEASVKKILDKLKFAKDSPQILFMLDKELSARAPKLPGLLMQGGE\n4CVP|AMKGDTKVINYLNKLLGNELVAINQYFLHARMFKNWGLKRLNDVEYRESIDEMKHADRYIERILFLEGLPNLQDLGKLNIGEDVEEMLRSDLALELDGAKNLREAIGYADSVRDYVSRDMMIEILRDEEGHIDWLETELDLIQKMGLQNYLQAQIREEG---------------\n4XGS|HLKPEMIEKLNEQMNLELYSSLLYQQMSAWCSYHTFEGAAAFLRRHAQEEMTHMQRLFDYLTDTGNLPRINTVESPFAEYSSLDELFQETYKLEQLITQKINELAHAAMTNQDYPTFNFLQWYVSEQHEEEKLFKSIIDKLSLAGKSGEGLYFIDKELSTLDTQN---------\n4XKT|MKGDTKVINYLNKLLGNELVAINQYFLHARMFKNWGLKRLNDVEYHESIDEMKHADRYIERILFLEGLPNLQDLGKLNIGEDVEEMLRSDLALELDGAKNLREAIGYADSVHDYVSRDMMIEILRDEEGHIDWLETELDLIQKMGLQNFLQAQIREEG----------------\n4ZTT|HHLKPEMIEKLNEQMNLELYASLLYQQMSAWCSYHTFEGAAAFLRRHAQEEMTHMQRLFDYLTDTGNLPRINTVESPFAEYSSLDELFQETYKHEQLITQKINELAHAAMTNQDYPTFNFLQWYVSEQHEEEKLFKSIIDKLSLAGKSGEGLYFIDKELSTLDTQN--------\n"
    }
   ],
   "source": [
    "# reading sequences. [0] allows us to get each sequence in the Seq format as opposed to the SingleLetterAlphabet format. \n",
    "fastas = listdir(\"manual_sequences\")\n",
    "sequences = [AlignIO.read(\"manual_sequences/\"+pdb, \"fasta\")[0] for pdb in fastas] \n",
    "unique_sequences = remove_duplicates(sequences)\n",
    "unique_sequences = padding(unique_sequences)\n",
    "\n",
    "print(\" \")\n",
    "for seq in unique_sequences: \n",
    "    seq_print(seq)"
   ]
  },
  {
   "cell_type": "code",
   "execution_count": 3,
   "metadata": {},
   "outputs": [
    {
     "output_type": "stream",
     "name": "stdout",
     "text": "Difference at point M1\nDifference at point H93\n\n1EUM|MLKPEMIEKLNEQMNLELYSSLLYQQMSAWCSYHTFEGAAAFLRRHAQEEMTHMQRLFDYLTDTGNLPRINTVESPFAEYSSLDELFQETYKHEQLITQKINELAHAAMTNQDYPTFNFLQWYVSEQHEEEKLFKSIIDKLSLAGKSGEGLYFIDKELSTLDTQN\n4XGS|HLKPEMIEKLNEQMNLELYSSLLYQQMSAWCSYHTFEGAAAFLRRHAQEEMTHMQRLFDYLTDTGNLPRINTVESPFAEYSSLDELFQETYKLEQLITQKINELAHAAMTNQDYPTFNFLQWYVSEQHEEEKLFKSIIDKLSLAGKSGEGLYFIDKELSTLDTQN\n"
    }
   ],
   "source": [
    "#### It's also interesting to note that 1EUM and 4XGS have really similar sequences.\n",
    "seq_names = [seq.id[:4] for seq in sequences]\n",
    "int_seq_0 = sequences[seq_names.index(\"1EUM\")]\n",
    "int_seq_1 = sequences[seq_names.index(\"4XGS\")]\n",
    "for i, residue in enumerate(int_seq_0):\n",
    "    if int_seq_0[i] != int_seq_1[i]:\n",
    "        print(\"Difference at point \" + residue + str(i+1)) \n",
    "print('')\n",
    "seq_print(int_seq_0)\n",
    "seq_print(int_seq_1)"
   ]
  },
  {
   "cell_type": "code",
   "execution_count": 4,
   "metadata": {},
   "outputs": [
    {
     "output_type": "stream",
     "name": "stdout",
     "text": "[('M', 1), ('M', 6), ('N', 11), ('L', 16), ('S', 21), ('Q', 26), ('C', 31), ('F', 36), ('A', 41), ('H', 46), ('A', 47), ('M', 51), ('R', 56), ('L', 61), ('T', 64), ('N', 66), ('N', 71), ('P', 76), ('S', 81), ('L', 86), ('Y', 91), ('L', 96), ('I', 101), ('H', 106), ('N', 111), ('T', 116), ('Q', 121), ('E', 126), ('E', 131), ('H', 34), ('F', 58), ('H', 128), ('L', 18), ('K', 140), ('L', 104), ('K', 156), ('L', 10)]\n1EUM|MLKPEMIEKLNEQMNLELYSSLLYQQMSAWCSYHTFEGAAAFLRRHAQEEMTHMQRLFDYLTDTGNLPRINTVESPFAEYSSLDELFQETYKHEQLITQKINELAHAAMTNQDYPTFNFLQWYVSEQHEEEKLFKSIIDKLSLAGKSGEGLYFIDKELSTLDTQN---------\n"
    }
   ],
   "source": [
    "# While the E. coli paper doesn't give the full sequence of the ferritin used, it does mention what the mutations were at certain points. There seems to be only one sequence which matches all the sites given (therefore, this is probably the sequence the researchers used). This is the sequence we need to compare to the P. furiosus sequence.\n",
    "\n",
    "with open(\"sites/mutations.txt\", \"r\") as m:\n",
    "    mutations = parse_mutations(m.read())\n",
    "\n",
    "with open(\"sites/other_known_sites.txt\", \"r\") as m:\n",
    "    other_known_sites = parse_other_known_sites(m.read())\n",
    "\n",
    "all_known_sites = other_known_sites\n",
    "all_known_mutations = []\n",
    "for mutation_list in mutations:\n",
    "    for mutation in mutation_list:\n",
    "        site = mutation[:-1]\n",
    "        if site not in all_known_sites:\n",
    "            all_known_sites.append(site)\n",
    "        if mutation not in all_known_mutations:\n",
    "            all_known_mutations.append(mutation)\n",
    "all_known_sites.remove((\"X\", 0)) \n",
    "print(all_known_sites)\n",
    "\n",
    "for seq in unique_sequences:\n",
    "    if all([seq.seq[ks[1]-1] == ks[0] for ks in all_known_sites]):\n",
    "        seq_print(seq)"
   ]
  },
  {
   "cell_type": "code",
   "execution_count": 5,
   "metadata": {},
   "outputs": [
    {
     "output_type": "stream",
     "name": "stdout",
     "text": "Unaligned: \n1EUM|MLKPEMIEKLNEQMNLELYSSLLYQQMSAWCSYHTFEGAAAFLRRHAQEEMTHMQRLFDYLTDTGNLPRINTVESPFAEYSSLDELFQETYKHEQLITQKINELAHAAMTNQDYPTFNFLQWYVSEQHEEEKLFKSIIDKLSLAGKSGEGLYFIDKELSTLDTQN---------\n2JD7|MLSERMLKALNDQLNRELYSAYLYFAMAAYFEDLGLEGFANWMKAQAEEEIGHALRFYNYIYDRNGRVELDEIPKPPKEWESPLKAFEAAYEHEKFISKSIYELAALAEEEKDYSTRAFLEWFINEQVEEEASVKKILDKLKFAKDSPQILFMLDKELSARAPKLPGLLMQGGE\n"
    }
   ],
   "source": [
    "padded = padding([sequences[seq_names.index(\"1EUM\")], sequences[seq_names.index(\"2JD7\")]])\n",
    "print(\"Unaligned: \")\n",
    "for seq in padded: \n",
    "    seq_print(seq)"
   ]
  },
  {
   "cell_type": "code",
   "execution_count": 6,
   "metadata": {},
   "outputs": [
    {
     "output_type": "stream",
     "name": "stdout",
     "text": "\nAligned: \n1EUM|MLKPEMIEKLNEQMNLELYSSLLYQQMSAWCSYHTFEGAAAFLRRHAQEEMTHMQRLFDYLTDTGNLPRINTVESPFAEYSSLDELFQETYKHEQLITQKINELAHAAMTNQDYPTFNFLQWYVSEQHEEEKLFKSIIDKLSLAGKSGEGLYFIDKELST---------LDTQN\n2JD7|MLSERMLKALNDQLNRELYSAYLYFAMAAYFEDLGLEGFANWMKAQAEEEIGHALRFYNYIYDRNGRVELDEIPKPPKEWESPLKAFEAAYEHEKFISKSIYELAALAEEEKDYSTRAFLEWFINEQVEEEASVKKILDKLKFAKDSPQILFMLDKELSARAPKLPGLLMQGGE\n"
    }
   ],
   "source": [
    "# In order to align the sequences with this package, we have to add gaps (-). It seems wasteful to write, then align from file, then read again, but this process is still pretty fast. \n",
    "    \n",
    "unaligned = MultipleSeqAlignment(padded)\n",
    "AlignIO.write(unaligned, \"alignment.fasta\", \"fasta\")\n",
    "muscle_cline = MuscleCommandline(\"muscle.exe\", input=\"alignment.fasta\", out = \"alignment_results.fasta\")\n",
    "stdout, stderr = muscle_cline()\n",
    "aligned = AlignIO.read(\"alignment_results.fasta\", \"fasta\")\n",
    "\n",
    "print(\"\")\n",
    "print(\"Aligned: \")\n",
    "for seq in aligned: \n",
    "    print(seq.id[:4] + \"|\" +seq.seq)"
   ]
  },
  {
   "cell_type": "code",
   "execution_count": 7,
   "metadata": {},
   "outputs": [],
   "source": [
    "# Obtaining all of the sequences near the mutation sites. Can change the number to the desired search radius (i.e. 7 residues to the left and right of the mutation).\n",
    "slices = []\n",
    "for site in all_known_mutations:\n",
    "    slices.append([site,slice_sequence(site[1]-1, aligned[0].seq, aligned[1].seq, 7)])"
   ]
  },
  {
   "cell_type": "code",
   "execution_count": 8,
   "metadata": {},
   "outputs": [
    {
     "output_type": "stream",
     "name": "stdout",
     "text": "('L18Q', 0.6)\n('K140A', 0.4666666666666667)\n('H128A', 0.4666666666666667)\n('H128R', 0.4666666666666667)\n('X0X', 0.42857142857142855)\n('L10P', 0.4)\n('K156A', 0.4)\n('R56A', 0.4)\n('L104Q', 0.4)\n('T116R', 0.4)\n('R56P', 0.4)\n('H34A', 0.3333333333333333)\n('A47T', 0.3333333333333333)\n('H34L', 0.3333333333333333)\n('F58A', 0.26666666666666666)\n('F58L', 0.26666666666666666)\n('T64A', 0.13333333333333333)\n('T64I', 0.13333333333333333)\n"
    }
   ],
   "source": [
    "# Comparing the sequences by sequence identity, it seems that in the region of L18 (on the E. coli), the structures are relatively similar.\n",
    "identity_scores = [(\"\".join([str(x) for x in sl[0]]), sequence_identity(sl[1][0], sl[1][1])) for sl in slices]\n",
    "sorted_identity = sorted(identity_scores,key=lambda x: x[1])\n",
    "sorted_identity.reverse()\n",
    "for x in sorted_identity:\n",
    "    print(x)"
   ]
  },
  {
   "cell_type": "code",
   "execution_count": 9,
   "metadata": {},
   "outputs": [],
   "source": [
    "# However, comparing sequences by identity loses quite a bit of information (certain residues are similar). So, it might make sense to use this information.\n",
    "# I copy-pasted this similarity matrix, and wrote some functions to parse it.  https://sci-hub.tw/10.1016/S1093-3263(98)80002-8 \n",
    "\n",
    "with open(\"utils/similarity_matrix.txt\", \"r\") as s:\n",
    "    similarity_matrix_copied = s.read()\n",
    "\n",
    "residue_lookups = \"A R N D C Q E G H I K L M P F S T W Y V -\".split(\" \")\n",
    "similarity_matrix = parse_similarity_matrix(similarity_matrix_copied)\n"
   ]
  },
  {
   "cell_type": "code",
   "execution_count": 10,
   "metadata": {},
   "outputs": [
    {
     "output_type": "stream",
     "name": "stdout",
     "text": "('L18Q', 5.907333333333333)\n('K140A', 6.078666666666666)\n('H128R', 6.167333333333334)\n('H128A', 6.167333333333334)\n('L104Q', 6.257333333333333)\n('H34L', 6.388000000000002)\n('H34A', 6.388000000000002)\n('T116R', 6.521999999999999)\n('R56P', 6.551333333333333)\n('R56A', 6.551333333333333)\n('L10P', 6.609333333333334)\n('K156A', 6.671333333333333)\n('F58L', 6.734)\n('F58A', 6.734)\n('T64I', 6.822000000000001)\n('T64A', 6.822000000000001)\n('A47T', 6.920000000000001)\n('X0X', 7.0042857142857144)\n"
    }
   ],
   "source": [
    "# This is the comparison of areas near the mutation site using the sequence similarity scores, using the knowledge that certain residues are similar.\n",
    "# Here, the lower the score, the more similar the area.\n",
    "\n",
    "similarity_scores = [(\"\".join([str(x) for x in sl[0]]), sequence_similarity_score(sl[1][0], sl[1][1], similarity_matrix, residue_lookups)) for sl in slices]\n",
    "sorted_similarity = sorted(similarity_scores,key=lambda x: x[1])\n",
    "for x in sorted_similarity:\n",
    "    print(x)"
   ]
  }
 ],
 "metadata": {
  "language_info": {
   "codemirror_mode": {
    "name": "ipython",
    "version": 3
   },
   "file_extension": ".py",
   "mimetype": "text/x-python",
   "name": "python",
   "nbconvert_exporter": "python",
   "pygments_lexer": "ipython3",
   "version": "3.6.8-final"
  },
  "orig_nbformat": 2,
  "kernelspec": {
   "name": "python36864bit8c6495d42d63455699a3c1e7b3c8e30a",
   "display_name": "Python 3.6.8 64-bit"
  }
 },
 "nbformat": 4,
 "nbformat_minor": 2
}