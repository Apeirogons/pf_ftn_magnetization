{
 "cells": [
  {
   "cell_type": "code",
   "execution_count": 138,
   "metadata": {},
   "outputs": [],
   "source": [
    "from os import listdir\n",
    "from Bio.PDB.MMCIFParser import MMCIFParser\n",
    "from Bio.PDB import PPBuilder\n",
    "from Bio import AlignIO\n",
    "from Bio.Align import MultipleSeqAlignment\n",
    "from Bio.SeqRecord import SeqRecord\n",
    "from Bio.PDB import Superimposer, StructureAlignment\n",
    "from utils.sequence import padding, seq_print\n",
    "from Bio.Align.Applications import MuscleCommandline\n",
    "from numpy import argmax\n",
    "from Bio.PDB.Polypeptide import Polypeptide"
   ]
  },
  {
   "cell_type": "code",
   "execution_count": 6,
   "metadata": {},
   "outputs": [],
   "source": [
    "parser = MMCIFParser()"
   ]
  },
  {
   "cell_type": "code",
   "execution_count": 21,
   "metadata": {},
   "outputs": [],
   "source": [
    "locs = [\"pdb_structures/eu/1eum.cif\", \"pdb_structures/jd/2jd7.cif\"]\n",
    "structures = [parser.get_structure(loc[-8:-4], loc) for loc in locs]\n"
   ]
  },
  {
   "cell_type": "code",
   "execution_count": 130,
   "metadata": {},
   "outputs": [
    {
     "output_type": "stream",
     "name": "stdout",
     "text": "1eum\n2jd7\n"
    },
    {
     "output_type": "execute_result",
     "data": {
      "text/plain": "1"
     },
     "metadata": {},
     "execution_count": 130
    }
   ],
   "source": [
    "ppb = PPBuilder()\n",
    "sequences = []\n",
    "best_peptides = []\n",
    "\n",
    "for i, structure in enumerate(structures):\n",
    "    pdb_id = locs[i][-8:-4]\n",
    "    print(pdb_id)\n",
    "    peptides = ppb.build_peptides(structure)\n",
    "    seqs = []\n",
    "    for peptide in peptides:\n",
    "        seqs.append(peptide.get_sequence())\n",
    "\n",
    "    longest_seq = argmax([len(seq) for seq in seqs])\n",
    "    sequences.append(SeqRecord(sorted_seqs[longest_seq], id=pdb_id))\n",
    "    best_peptides.append(peptides[longest_seq])\n",
    "padded = padding(sequences)\n",
    "AlignIO.write(MultipleSeqAlignment(padded), \"structure_alignment.fasta\", \"fasta\")"
   ]
  },
  {
   "cell_type": "code",
   "execution_count": 67,
   "metadata": {},
   "outputs": [
    {
     "output_type": "stream",
     "name": "stdout",
     "text": "Aligned: \n1eum|-LKPEMIEKLNEQMNLELYSSLLYQQMSAWCSYHTFEGAAAFLRRHAQEEMTHMQRLFDYLTDTGNLPRINTVESPFAEYSSLDELFQETYKHEQLITQKINELAHAAMTNQDYPTFNFLQWYVSEQHEEEKLFKSIIDKLSLAGKSGEGLYFIDKELSTLD-----\n2jd7|MLSERMLKALNDQLNRELYSAYLYFAMAAYFEDLGLEGFANWMKAQAEEEIGHALRFYNYIYDRNGRVELDEIPKPPKEWESPLKAFEAAYEHEKFISKSIYELAALAEEEKDYSTRAFLEWFINEQVEEEASVKKILDKLKFAKDSPQILFMLDKELSARAPKLPG\n"
    }
   ],
   "source": [
    "\n",
    "muscle_cline = MuscleCommandline(\"muscle.exe\", input=\"structure_alignment.fasta\", out = \"structure_alignment_results.fasta\")\n",
    "stdout, stderr = muscle_cline()\n",
    "aligned = AlignIO.read(\"structure_alignment_results.fasta\", \"fasta\")\n",
    "\n",
    "print(\"Aligned: \")\n",
    "for seq in aligned: \n",
    "    seq_print(seq)"
   ]
  },
  {
   "cell_type": "code",
   "execution_count": 139,
   "metadata": {},
   "outputs": [],
   "source": [
    "ec_chain = Polypeptide(best_peptides[0][0:161])\n",
    "pf_chain = Polypeptide(best_peptides[1][1:162])"
   ]
  },
  {
   "cell_type": "code",
   "execution_count": 140,
   "metadata": {},
   "outputs": [],
   "source": [
    "ec_backbone = ec_chain.get_ca_list()\n",
    "pf_backbone = pf_chain.get_ca_list()"
   ]
  },
  {
   "cell_type": "code",
   "execution_count": 144,
   "metadata": {},
   "outputs": [
    {
     "output_type": "execute_result",
     "data": {
      "text/plain": "(1.2201657820892462, (array([[ 0.99437227,  0.07716325, -0.07259219],\n         [ 0.04690803, -0.93505502, -0.35138547],\n         [-0.09499174,  0.34600281, -0.93341235]]),\n  array([52.45706762, 89.81185317, 29.96649629])))"
     },
     "metadata": {},
     "execution_count": 144
    }
   ],
   "source": [
    "superimposer.rms, superimposer.rotran"
   ]
  }
 ],
 "metadata": {
  "language_info": {
   "codemirror_mode": {
    "name": "ipython",
    "version": 3
   },
   "file_extension": ".py",
   "mimetype": "text/x-python",
   "name": "python",
   "nbconvert_exporter": "python",
   "pygments_lexer": "ipython3",
   "version": "3.6.8-final"
  },
  "orig_nbformat": 2,
  "kernelspec": {
   "name": "python36864bit8c6495d42d63455699a3c1e7b3c8e30a",
   "display_name": "Python 3.6.8 64-bit"
  }
 },
 "nbformat": 4,
 "nbformat_minor": 2
}