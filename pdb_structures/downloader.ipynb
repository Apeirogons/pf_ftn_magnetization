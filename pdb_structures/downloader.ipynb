{
 "cells": [
  {
   "cell_type": "markdown",
   "metadata": {},
   "source": [
    "I'm not sure why this doesn't work as a python script, but w/e."
   ]
  },
  {
   "cell_type": "code",
   "execution_count": null,
   "metadata": {},
   "outputs": [],
   "source": [
    "from Bio.PDB.PDBParser import PDBParser\n",
    "from Bio.PDB import PDBList\n",
    "from Bio.PDB import MMCIFIO\n",
    "\n",
    "downloader = PDBList()\n",
    "io = MMCIFIO()\n",
    "\n",
    "with open('pdb_codes.txt', 'r') as c:\n",
    "     codes = c.read().split('\\n')\n",
    "     for code in codes:\n",
    "        downloader.retrieve_pdb_file(code[:4])\n"
   ]
  }
 ],
 "metadata": {
  "language_info": {
   "codemirror_mode": {
    "name": "ipython",
    "version": 3
   },
   "file_extension": ".py",
   "mimetype": "text/x-python",
   "name": "python",
   "nbconvert_exporter": "python",
   "pygments_lexer": "ipython3",
   "version": 3
  },
  "orig_nbformat": 2
 },
 "nbformat": 4,
 "nbformat_minor": 2
}